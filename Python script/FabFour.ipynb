{
 "cells": [
  {
   "cell_type": "code",
   "execution_count": 13,
   "id": "e704d04c-9d03-4b30-b919-c57c30f22207",
   "metadata": {},
   "outputs": [],
   "source": [
    "# importing libraries\n",
    "\n",
    "from bs4 import BeautifulSoup\n",
    "import requests\n",
    "import pandas as pd\n",
    "import numpy as np\n",
    "import openpyxl as op"
   ]
  },
  {
   "cell_type": "code",
   "execution_count": 14,
   "id": "973f4d60-d179-4c8c-8257-1f0118921752",
   "metadata": {},
   "outputs": [],
   "source": [
    "# scrape data\n",
    "\n",
    "def findByInning(keyword, group):\n",
    "    url = 'http://www.cricmetric.com/playerstats.py?player='+keyword+'&role=batsman&format=Test&groupby='+group\n",
    "    html_content = requests.get(url).text\n",
    "    soup = BeautifulSoup(html_content, 'lxml')\n",
    "    table = soup.find('div', class_='tab-content')\n",
    "    rows = table.find_all('tr')\n",
    "    return rows"
   ]
  },
  {
   "cell_type": "code",
   "execution_count": 15,
   "id": "c28051c0-4283-4f49-af6e-0e6062388fb6",
   "metadata": {},
   "outputs": [],
   "source": [
    "# get headers\n",
    "\n",
    "def findHeaders(rows):\n",
    "    headers=[]\n",
    "    vals = rows[0].find_all('th')\n",
    "    for i in range(0,len(vals)):\n",
    "        val = vals[i].get_text()\n",
    "        headers.append(val)\n",
    "    return headers"
   ]
  },
  {
   "cell_type": "code",
   "execution_count": 16,
   "id": "155a3240-0efe-4016-932a-fd91a5b3b45f",
   "metadata": {},
   "outputs": [],
   "source": [
    "# get table data\n",
    "\n",
    "def findData(rows):\n",
    "    data = []\n",
    "    for i in range(1,len(rows)):\n",
    "        subData = []\n",
    "        vals = rows[i].find_all('td')\n",
    "        for i in range(0,len(vals)):\n",
    "            val = vals[i].get_text()\n",
    "            subData.append(val)\n",
    "        data.append(subData)\n",
    "    return data"
   ]
  },
  {
   "cell_type": "code",
   "execution_count": 17,
   "id": "e4a12a88-d11c-44cd-9a5b-9d74036d2424",
   "metadata": {},
   "outputs": [],
   "source": [
    "# create dataframe\n",
    "\n",
    "def createTable(keyword, group):\n",
    "    rows = findByInning(keyword, group)\n",
    "    headers = findHeaders(rows)\n",
    "    data = findData(rows)\n",
    "    df = pd.DataFrame(data=data, columns=headers)\n",
    "    df['Key'] = keyword\n",
    "    return df"
   ]
  },
  {
   "cell_type": "code",
   "execution_count": 18,
   "id": "567b9f4f-9a11-4adc-bd0c-137c91a1e075",
   "metadata": {},
   "outputs": [
    {
     "name": "stdout",
     "output_type": "stream",
     "text": [
      "done\n"
     ]
    }
   ],
   "source": [
    "#merge dataframes for all players\n",
    "\n",
    "players = ['SPD+Smith', 'V+Kohli', 'KS+Williamson', 'JE+Root']\n",
    "groups = ['year', 'inning', 'batpos', 'opp_player', 'opp_player_type', 'opp_team', 'match_result', 'vcountry']\n",
    "\n",
    "path = 'E:/Datasets/ScrapedDatasets/FabFour.xlsx'\n",
    "writer = pd.ExcelWriter(path, engine = 'xlsxwriter')\n",
    "\n",
    "for group in groups:\n",
    "    dfSmith = createTable(players[0], group)\n",
    "    dfKohli = createTable(players[1], group)\n",
    "    dfKane = createTable(players[2], group)\n",
    "    dfRoot = createTable(players[3], group)\n",
    "    final_df = pd.concat([dfSmith, dfKohli, dfKane, dfRoot], ignore_index=True)   \n",
    "    final_df.to_excel(writer, index=False, sheet_name='by-'+group)\n",
    "\n",
    "writer.close()\n",
    "print('done')"
   ]
  }
 ],
 "metadata": {
  "kernelspec": {
   "display_name": "Python 3 (ipykernel)",
   "language": "python",
   "name": "python3"
  },
  "language_info": {
   "codemirror_mode": {
    "name": "ipython",
    "version": 3
   },
   "file_extension": ".py",
   "mimetype": "text/x-python",
   "name": "python",
   "nbconvert_exporter": "python",
   "pygments_lexer": "ipython3",
   "version": "3.9.7"
  }
 },
 "nbformat": 4,
 "nbformat_minor": 5
}
